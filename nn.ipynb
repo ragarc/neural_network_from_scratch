{
 "cells": [
  {
   "cell_type": "code",
   "execution_count": 15,
   "id": "0626beef-ba03-4655-a6a2-2f89e2c698e0",
   "metadata": {},
   "outputs": [],
   "source": [
    "# Ricardo Garcia, FSRI 2021\n",
    "import numpy as np\n",
    "import tensorflow.keras.datasets.mnist as dataa\n",
    "import matplotlib.pyplot as plt"
   ]
  },
  {
   "cell_type": "code",
   "execution_count": 2,
   "id": "c628251e-9dab-4d79-a492-e4ea65b3515b",
   "metadata": {},
   "outputs": [],
   "source": [
    "# Import the data and normalize it. This is the only time that tensorflow is used\n",
    "(train_images, train_labels), (test_images,test_labels) = dataa.load_data()\n",
    "train_images = np.reshape(train_images, (60000, 784)) / 255\n",
    "test_images = np.reshape(test_images, (10000, 784)) / 255"
   ]
  },
  {
   "cell_type": "code",
   "execution_count": 3,
   "id": "175a5995-af7c-4cb5-92f2-896dc40250fc",
   "metadata": {},
   "outputs": [],
   "source": [
    "def s(vector):\n",
    "    \"\"\"\n",
    "        Draws a picture of a given handwritten digit.\n",
    "        vector (numpy 784-dimensional vector) => the handwritten digit to be drawn. It is a vector of pixel values\n",
    "    \"\"\"\n",
    "    plt.matshow(vector.reshape(28,28),cmap='gray')\n",
    "    plt.show()"
   ]
  },
  {
   "cell_type": "code",
   "execution_count": 4,
   "id": "daea22c5-9d08-4c3a-8e7a-7a122654eb13",
   "metadata": {},
   "outputs": [],
   "source": [
    "# Activation function and its derivative\n",
    "def tanh(x):\n",
    "    return 1 / (1 + np.exp(-x))\n",
    "def dtanh(x):\n",
    "    return np.exp(-x)/np.power(1+np.exp(-x),2)"
   ]
  },
  {
   "cell_type": "code",
   "execution_count": 5,
   "id": "afaf4f49-1f4b-4569-b183-3997f80704e2",
   "metadata": {},
   "outputs": [],
   "source": [
    "# One layer neural network.\n",
    "class NN:\n",
    "    def __init__(self, i_d, o_d, learning_rate):\n",
    "        \"\"\"\n",
    "            Initializes the neural nerwork with random weights and biases.\n",
    "            i_d (int) => the dimension of the input data\n",
    "            o_d (int) => the dimension of the output label\n",
    "            learning_rate (float) => the learning rate\n",
    "        \"\"\"\n",
    "        self.weights = np.random.rand(o_d, i_d) - 0.5\n",
    "        self.bias = np.random.rand(o_d, 1)\n",
    "        self.i = np.random.rand(i_d, 1)\n",
    "        self.o = np.random.rand(o_d, 1)\n",
    "        self.i_d = i_d\n",
    "        self.o_d = o_d\n",
    "        self.L = learning_rate\n",
    "        self.wrong_indices = []\n",
    "        \n",
    "    def feed_forward(self, d):\n",
    "        \"\"\"\n",
    "            For a given input d, returns the network's prediction.\n",
    "            Sets the network's self.o attribute to the prediction before\n",
    "            the activation function is applied. This is important in the\n",
    "            gradients calculation.\n",
    "        \"\"\"\n",
    "        self.i = np.reshape(d, (self.i_d, 1))\n",
    "        self.o = np.matmul(self.weights, self.i) + self.bias\n",
    "        return tanh(self.o)\n",
    "    \n",
    "    def weight_gradients(self, out, cost):\n",
    "        w = np.matmul((out - cost) * dtanh(self.o), self.i.transpose())\n",
    "        return w\n",
    "    \n",
    "    def bias_gradients(self, out, cost):\n",
    "        b = (out - cost) * dtanh(self.o)\n",
    "        return b\n",
    "    \n",
    "    def train(self, data, labels, batch_size):\n",
    "        \"\"\"\n",
    "            Trains the neural network.\n",
    "            data (numpy 2-D array) => a two dimensional array containing all  training data.\n",
    "            One dimension is the size of a single training example (for mnist it would be 784)\n",
    "            The other dimension is the total number of training examples (for mnist it would be 60000)\n",
    "            \n",
    "            labels (numpy 1-D array) => an array containing the labels (for mnist it is 10 long)\n",
    "        \"\"\"\n",
    "        w_g = np.zeros((self.o_d, self.i_d))\n",
    "        b_g = np.zeros((self.o_d, 1))\n",
    "        \n",
    "        for i in range(len(data)):\n",
    "            f = self.feed_forward(data[i])\n",
    "            c = np.zeros((10, 1))\n",
    "            c[labels[i]] = 1\n",
    "            w_g = w_g + self.weight_gradients(f, c)\n",
    "            b_g = b_g + self.bias_gradients(f, c)\n",
    "            if i % batch_size == 0:\n",
    "                w_g /= batch_size\n",
    "                b_g /= batch_size\n",
    "                self.weights -= w_g * self.L\n",
    "                self.bias -= b_g * self.L\n",
    "                \n",
    "                w_g = np.zeros((self.o_d, self.i_d))\n",
    "                b_g = np.zeros((self.o_d, 1))\n",
    "                \n",
    "    def label(self, test):\n",
    "        \"\"\"\n",
    "            Prints the label for a given test example to the console\n",
    "            test (numpy 1-D array) => the test example\n",
    "        \"\"\"\n",
    "        results = self.feed_forward(test)\n",
    "        print(\"Output Layer Activations:\")\n",
    "        for i in range(len(results)):\n",
    "            print(\"Confidence its \" + str(i) + \":\", results[i])\n",
    "        mx = -10\n",
    "        index = -1\n",
    "        for i in range(len(results)):\n",
    "            if results[i] > mx:\n",
    "                mx = results[i]\n",
    "                index = i \n",
    "        s(test)\n",
    "        print(\"its a \", index, \" with \", mx, \"confidence\")\n",
    "        \n",
    "    def error(self, test,label):\n",
    "        \"\"\"\n",
    "            Prints the output layer's activations to the console,\n",
    "            along with the corresponding label vector, and the magnitude \n",
    "            of the error. Mostly used for debugging\n",
    "            test (numpy 1-D array) => the test example\n",
    "            label (int) => what number should the test be labeled as\n",
    "        \"\"\"\n",
    "        results = self.feed_forward(test)\n",
    "        l = np.zeros((10, 1))\n",
    "        l[label] = 1\n",
    "        vectorOut = results - l\n",
    "        \n",
    "        print(\"Output Layer Activations:\")\n",
    "        for i in range(len(results)):\n",
    "            print(\"Confidence its \" + str(i) + \":\", results[i])\n",
    "        print(l)\n",
    "        mx = -10\n",
    "        index = -1\n",
    "        for i in range(len(results)):\n",
    "            if results[i] > mx:\n",
    "                mx = results[i]\n",
    "                index = i\n",
    "        s(test)\n",
    "        print(np.dot(vectorOut[0], vectorOut[0]))\n",
    "\n",
    "    def calculate_accuracy(self,test,labels):\n",
    "        \"\"\"\n",
    "            Returns the number of examples the network correctly labeled\n",
    "            divided by the total number of examples. Also saves the cases it got\n",
    "            wrong as an array in the self.wrong_indices field.\n",
    "            test (numpy 2-D array) => a two dimensional array containing all testing data.\n",
    "            labels (numpy 1-D array) => array containing all testing labels as ints.\n",
    "        \"\"\"\n",
    "        self.wrong_indices = []\n",
    "        right = 0\n",
    "        total = 0\n",
    "        for i, s in enumerate(test): \n",
    "            results = self.feed_forward(s)\n",
    "            if np.argmax(results) == labels[i]:\n",
    "                right += 1\n",
    "            else:\n",
    "                self.wrong_indices.append(i)\n",
    "            total += 1\n",
    "        return (right / total) * 100"
   ]
  },
  {
   "cell_type": "code",
   "execution_count": 6,
   "id": "0935d328-db05-4066-bd1d-f488d2877e5c",
   "metadata": {},
   "outputs": [],
   "source": [
    "neural_net=NN(784,10,1)\n",
    "# Training might take a few seconds. If it takes more than\n",
    "# a minute something is up\n",
    "for i in range(10):\n",
    "    neural_net.train(train_images,train_labels,10)"
   ]
  },
  {
   "cell_type": "code",
   "execution_count": 7,
   "id": "17d99802-14ca-40ce-befe-75435a487554",
   "metadata": {},
   "outputs": [
    {
     "data": {
      "text/plain": [
       "91.49000000000001"
      ]
     },
     "execution_count": 7,
     "metadata": {},
     "output_type": "execute_result"
    }
   ],
   "source": [
    "neural_net.calculate_accuracy(test_images,test_labels)"
   ]
  },
  {
   "cell_type": "code",
   "execution_count": 8,
   "id": "df390ee9-1ec6-48b1-bdf0-ac758ae4403f",
   "metadata": {
    "tags": []
   },
   "outputs": [
    {
     "name": "stdout",
     "output_type": "stream",
     "text": [
      "Output Layer Activations:\n",
      "Confidence its 0: [1.02175892e-06]\n",
      "Confidence its 1: [3.16169657e-13]\n",
      "Confidence its 2: [0.00251208]\n",
      "Confidence its 3: [3.59184784e-13]\n",
      "Confidence its 4: [3.63362638e-07]\n",
      "Confidence its 5: [3.17444889e-06]\n",
      "Confidence its 6: [8.53667313e-06]\n",
      "Confidence its 7: [2.72895822e-05]\n",
      "Confidence its 8: [0.02574628]\n",
      "Confidence its 9: [7.25322215e-06]\n"
     ]
    },
    {
     "data": {
      "image/png": "[encoded data removed]",
      "text/plain": [
       "<Figure size 480x480 with 1 Axes>"
      ]
     },
     "metadata": {},
     "output_type": "display_data"
    },
    {
     "name": "stdout",
     "output_type": "stream",
     "text": [
      "its a  8  with  [0.02574628] confidence\n"
     ]
    }
   ],
   "source": [
    "# neural_net.wrong_indices has all of the examples it got\n",
    "# wrong. Change the number to see other examples\n",
    "neural_net.label(test_images[neural_net.wrong_indices[4]])"
   ]
  },
  {
   "cell_type": "code",
   "execution_count": 9,
   "id": "5086dd4f-45bd-411e-8348-9461f2d534cb",
   "metadata": {
    "tags": []
   },
   "outputs": [
    {
     "data": {
      "image/png": "[encoded data removed]",
      "text/plain": [
       "<Figure size 480x480 with 1 Axes>"
      ]
     },
     "metadata": {},
     "output_type": "display_data"
    }
   ],
   "source": [
    "# Visualizing the weights is fun\n",
    "s(neural_net.weights[6])"
   ]
  },
  {
   "cell_type": "code",
   "execution_count": 10,
   "id": "1e81db46-21f2-4fdf-b10f-388e1a9f3d0a",
   "metadata": {},
   "outputs": [],
   "source": [
    "# All of the following examples were drawn by me in a program I made.\n",
    "# Neural network doesn't seem too robust when handling adversarial examples,\n",
    "# For example, it is 92% sure that the cat is a 2."
   ]
  },
  {
   "cell_type": "code",
   "execution_count": 11,
   "id": "3b1f9013-2c3b-45bb-ab86-0ab682b94c49",
   "metadata": {
    "tags": []
   },
   "outputs": [
    {
     "name": "stdout",
     "output_type": "stream",
     "text": [
      "Output Layer Activations:\n",
      "Confidence its 0: [6.42296132e-12]\n",
      "Confidence its 1: [3.64524294e-14]\n",
      "Confidence its 2: [0.1834065]\n",
      "Confidence its 3: [2.06055144e-09]\n",
      "Confidence its 4: [4.51358432e-10]\n",
      "Confidence its 5: [7.54566551e-09]\n",
      "Confidence its 6: [1.34723662e-11]\n",
      "Confidence its 7: [2.34143415e-14]\n",
      "Confidence its 8: [2.64043786e-14]\n",
      "Confidence its 9: [6.51552285e-12]\n"
     ]
    },
    {
     "data": {
      "image/png": "[encoded data removed]",
      "text/plain": [
       "<Figure size 480x480 with 1 Axes>"
      ]
     },
     "metadata": {},
     "output_type": "display_data"
    },
    {
     "name": "stdout",
     "output_type": "stream",
     "text": [
      "its a  2  with  [0.1834065] confidence\n"
     ]
    }
   ],
   "source": [
    "cat=np.array([[0,0,0,0,0,0,0,0,0,0,0,0,0,0,0,0,0,0,0,0,0,0,0,0,0,0,0,0],[0,0,0,0,0,0,0,0,0,0,0,0,0,0,0,0,0,0,0,0,0,0,0,0,0,0,0,0],[0,0,0,0,0,0,0,0,0,0,0,0,0,0,0,0,0,0,0,0,0,0.8999999999999999,0.8999999999999999,0.8999999999999999,0.8999999999999999,0.8999999999999999,0.8999999999999999,0.8999999999999999],[0,0,0,0,0,0,0,0,0,0,0,0,0,0,0,0.8999999999999999,0,0,0,0,0,0,0.8999999999999999,0.6,0.3,0.3,0.8999999999999999,0],[0,0,0,0,0,0.3,0.3,0,0,0.6,0.6,0.8999999999999999,0.8999999999999999,0.8999999999999999,0.8999999999999999,0.8999999999999999,0.3,0.8999999999999999,0.3,0.6,0,0,0,0.8999999999999999,0.3,0,0,0],[0,0,0.8999999999999999,0.8999999999999999,0.8999999999999999,0.8999999999999999,0.6,0.8999999999999999,0.8999999999999999,0.3,0.3,0.3,0,0,0.8999999999999999,0.8999999999999999,0.8999999999999999,0.8999999999999999,0.6,0.3,0,0,0,0,0.8999999999999999,0,0,0],[0,0,0.8999999999999999,0.8999999999999999,0,0,0,0,0,0,0,0,0,0,0,0,0.6,0.8999999999999999,0.8999999999999999,0.8999999999999999,0,0.3,0.8999999999999999,0.8999999999999999,0.3,0,0,0],[0,0,0,0.8999999999999999,0.8999999999999999,0,0,0,0,0,0.8999999999999999,0,0,0,0,0,0,0,0.8999999999999999,0.8999999999999999,0,0.8999999999999999,0.8999999999999999,0.8999999999999999,0.8999999999999999,0.8999999999999999,0.8999999999999999,0.8999999999999999],[0,0,0,0.3,0.8999999999999999,0.8999999999999999,0,0,0,0,0.8999999999999999,0,0,0,0,0,0,0.8999999999999999,0.8999999999999999,0,0,0,0,0,0,0,0,0],[0,0,0,0,0,0.8999999999999999,0,0,0,0.6,0.8999999999999999,0,0,0,0,0,0,0.8999999999999999,0.8999999999999999,0,0,0.8999999999999999,0.8999999999999999,0.8999999999999999,0.8999999999999999,0.8999999999999999,0.8999999999999999,0.8999999999999999],[0,0,0,0,0.3,0.8999999999999999,0,0,0,0.3,0.8999999999999999,0,0,0,0,0.8999999999999999,0.8999999999999999,0,0.8999999999999999,0,0,0.6,0,0,0.8999999999999999,0.8999999999999999,0,0.8999999999999999],[0,0,0,0,0,0.8999999999999999,0,0,0,0,0,0,0,0,0.8999999999999999,0.8999999999999999,0.6,0,0.6,0,0,0.8999999999999999,0,0,0.8999999999999999,0,0.3,0.8999999999999999],[0,0,0,0,0,0.8999999999999999,0,0,0,0,0,0,0,0.8999999999999999,0.8999999999999999,0.8999999999999999,0,0,0.8999999999999999,0,0,0,0,0,0.8999999999999999,0,0.8999999999999999,0.3],[0,0,0,0,0,0.8999999999999999,0,0,0,0,0,0,0,0.8999999999999999,0.8999999999999999,0.3,0,0,0.8999999999999999,0,0,0,0,0.8999999999999999,0.8999999999999999,0.8999999999999999,0.8999999999999999,0],[0,0,0,0,0,0.8999999999999999,0.8999999999999999,0,0,0,0,0,0,0,0.6,0.8999999999999999,0,0,0.8999999999999999,0,0,0,0.8999999999999999,0.3,0,0,0.8999999999999999,0],[0,0,0,0,0,0,0.8999999999999999,0,0,0,0.8999999999999999,0,0,0,0,0.8999999999999999,0,0,0.8999999999999999,0,0,0,0.8999999999999999,0,0,0,0.8999999999999999,0],[0,0,0,0,0,0,0.8999999999999999,0,0,0,0.8999999999999999,0,0,0,0,0,0,0.8999999999999999,0,0,0,0,0.8999999999999999,0,0,0,0.8999999999999999,0],[0,0,0,0,0.3,0.8999999999999999,0,0,0,0,0.8999999999999999,0,0,0,0,0,0,0.8999999999999999,0,0,0,0,0,0.6,0.3,0.8999999999999999,0.3,0],[0,0,0,0.3,0.8999999999999999,0,0,0,0,0,0.8999999999999999,0,0,0,0,0,0.8999999999999999,0.8999999999999999,0,0,0,0,0.8999999999999999,0,0.8999999999999999,0,0,0],[0,0,0.3,0.8999999999999999,0.3,0,0,0,0,0,0,0,0,0,0,0,0.8999999999999999,0.8999999999999999,0,0,0,0,0.8999999999999999,0,0,0,0,0],[0,0,0.8999999999999999,0.8999999999999999,0.6,0.6,0,0,0,0,0,0,0,0,0.6,0.8999999999999999,0.8999999999999999,0.8999999999999999,0,0,0,0,0.8999999999999999,0.8999999999999999,0.8999999999999999,0.3,0.6,0.8999999999999999],[0,0,0,0,0.8999999999999999,0.8999999999999999,0.8999999999999999,0.8999999999999999,0.8999999999999999,0,0,0,0.8999999999999999,0.3,0.6,0.8999999999999999,0,0.8999999999999999,0,0,0,0,0,0.8999999999999999,0.3,0.8999999999999999,0.8999999999999999,0.8999999999999999],[0,0,0,0,0,0,0,0.8999999999999999,0,0,0.8999999999999999,0.3,0.3,0,0,0.8999999999999999,0.8999999999999999,0.3,0,0,0,0,0,0.8999999999999999,0.8999999999999999,0.8999999999999999,0.3,0],[0,0,0,0,0,0,0,0,0,0,0,0,0,0,0,0,0,0,0,0,0,0,0,0,0.8999999999999999,0.8999999999999999,0.8999999999999999,0],[0,0,0,0,0,0,0,0,0,0,0,0,0,0,0,0,0,0,0,0.8999999999999999,0.8999999999999999,0.8999999999999999,0.8999999999999999,0.8999999999999999,0.8999999999999999,0.8999999999999999,0,0],[0,0,0,0,0,0,0,0,0,0,0,0,0,0,0,0,0,0,0.8999999999999999,0,0,0,0,0,0,0,0,0],[0,0,0,0,0,0,0,0,0,0,0,0,0,0,0,0,0,0,0,0,0,0,0,0,0,0,0,0],[0,0,0,0,0,0,0,0,0,0,0,0,0,0,0,0,0,0,0,0,0,0,0,0,0,0,0,0]]).transpose()\n",
    "neural_net.label(cat)"
   ]
  },
  {
   "cell_type": "code",
   "execution_count": 12,
   "id": "55a50481-aed6-4ed6-a042-768e5558d603",
   "metadata": {},
   "outputs": [
    {
     "name": "stdout",
     "output_type": "stream",
     "text": [
      "Output Layer Activations:\n",
      "Confidence its 0: [0.00010603]\n",
      "Confidence its 1: [2.05627409e-05]\n",
      "Confidence its 2: [0.07385534]\n",
      "Confidence its 3: [0.06876686]\n",
      "Confidence its 4: [0.24993199]\n",
      "Confidence its 5: [0.00029549]\n",
      "Confidence its 6: [2.46737987e-07]\n",
      "Confidence its 7: [2.97617444e-06]\n",
      "Confidence its 8: [7.06969839e-06]\n",
      "Confidence its 9: [1.11684656e-08]\n"
     ]
    },
    {
     "data": {
      "image/png": "[encoded data removed]",
      "text/plain": [
       "<Figure size 480x480 with 1 Axes>"
      ]
     },
     "metadata": {},
     "output_type": "display_data"
    },
    {
     "name": "stdout",
     "output_type": "stream",
     "text": [
      "its a  4  with  [0.24993199] confidence\n"
     ]
    }
   ],
   "source": [
    "# Neural network is bad at labeling examples drawn with\n",
    "# very thin lines. I suspect that the confidence doesnt\n",
    "# depend a lot on the actual shape of the drawing but more\n",
    "# on the number of bright pixels.\n",
    "three=np.array([[0,0,0,0,0,0,0,0,0,0,0,0,0,0,0,0,0,0,0,0,0,0,0,0,0,0,0,0],[0,0,0,0,0,0,0,0,0,0,0,0,0,0,0,0,0,0,0,0,0,0,0,0,0,0,0,0],[0,0,0,0,0,0,0,0,0,0,0,0,0,0,0,0,0,0,0,0,0,0,0,0,0,0,0,0],[0,0,0,0,0,0,0,0,0,0,0,0,0,0,0,0,0,0,0,0,0,0,0,0,0,0,0,0],[0,0,0,0,0,0,0,0,0,0,0,0,0,0,0,0,0,0,0,0,0,0,0,0,0,0,0,0],[0,0,0,0,0,0,0,0,0,0,0,0,0,0,0,0,0,0,0,0,0,0,0,0,0,0,0,0],[0,0,0,0,0,0,0,0,0,0,0,0,0,0,0,0,0,0.8999999999999999,0,0,0,0,0,0,0,0,0,0],[0,0,0,0,0,0,0.6,0.8999999999999999,0,0,0,0,0,0,0,0,0.3,0.8999999999999999,0,0,0,0,0,0,0,0,0,0],[0,0,0,0,0,0,0.6,0.6,0,0,0,0,0,0,0,0,0.8999999999999999,0.8999999999999999,0,0,0,0,0,0,0,0,0,0],[0,0,0,0,0,0.3,0.3,0,0,0,0,0,0,0,0,0,0.8999999999999999,0,0,0,0,0,0,0,0,0,0,0],[0,0,0,0,0,0.6,0.3,0,0,0,0,0,0,0,0,0.8999999999999999,0.6,0,0,0,0,0,0,0,0,0,0,0],[0,0,0,0,0,0.8999999999999999,0,0,0,0,0,0,0,0,0.6,0.6,0.3,0,0,0,0,0,0,0,0,0,0,0],[0,0,0,0,0,0.8999999999999999,0,0,0,0,0,0,0,0,0.3,0.6,0,0,0,0,0,0,0,0,0,0,0,0],[0,0,0,0,0,0.8999999999999999,0,0,0,0,0,0,0,0.6,0.8999999999999999,0,0,0,0,0,0,0,0,0,0,0,0,0],[0,0,0,0,0,0.8999999999999999,0,0,0,0,0,0,0.3,0.6,0.8999999999999999,0,0,0,0,0,0,0,0,0,0,0,0,0],[0,0,0,0,0,0.6,0.6,0,0,0,0,0.6,0.3,0.3,0.8999999999999999,0,0,0,0,0,0,0,0,0.8999999999999999,0,0,0,0],[0,0,0,0,0,0.8999999999999999,0.6,0.8999999999999999,0,0.3,0.8999999999999999,0.6,0.8999999999999999,0,0.3,0.6,0,0,0,0,0,0,0.8999999999999999,0.6,0,0,0,0],[0,0,0,0,0,0.8999999999999999,0.8999999999999999,0.3,0.8999999999999999,0.8999999999999999,0.8999999999999999,0.3,0,0,0.8999999999999999,0.8999999999999999,0,0,0,0,0,0,0.8999999999999999,0,0,0,0,0],[0,0,0,0,0,0,0,0.6,0.3,0.8999999999999999,0.8999999999999999,0,0,0,0.8999999999999999,0.3,0,0,0,0,0,0.8999999999999999,0,0,0,0,0,0],[0,0,0,0,0,0,0,0,0,0,0,0,0,0,0,0.8999999999999999,0.8999999999999999,0,0,0.3,0.8999999999999999,0.8999999999999999,0,0,0,0,0,0],[0,0,0,0,0,0,0,0,0,0,0,0,0,0,0,0,0.8999999999999999,0.8999999999999999,0.8999999999999999,0.6,0.3,0,0,0,0,0,0,0],[0,0,0,0,0,0,0,0,0,0,0,0,0,0,0,0,0,0,0,0,0,0,0,0,0,0,0,0],[0,0,0,0,0,0,0,0,0,0,0,0,0,0,0,0,0,0,0,0,0,0,0,0,0,0,0,0],[0,0,0,0,0,0,0,0,0,0,0,0,0,0,0,0,0,0,0,0,0,0,0,0,0,0,0,0],[0,0,0,0,0,0,0,0,0,0,0,0,0,0,0,0,0,0,0,0,0,0,0,0,0,0,0,0],[0,0,0,0,0,0,0,0,0,0,0,0,0,0,0,0,0,0,0,0,0,0,0,0,0,0,0,0],[0,0,0,0,0,0,0,0,0,0,0,0,0,0,0,0,0,0,0,0,0,0,0,0,0,0,0,0],[0,0,0,0,0,0,0,0,0,0,0,0,0,0,0,0,0,0,0,0,0,0,0,0,0,0,0,0]]).transpose()\n",
    "neural_net.label(three)"
   ]
  },
  {
   "cell_type": "code",
   "execution_count": 13,
   "id": "ef6df3c5-87e0-47b7-b2ff-84b5b106c998",
   "metadata": {},
   "outputs": [
    {
     "name": "stdout",
     "output_type": "stream",
     "text": [
      "Output Layer Activations:\n",
      "Confidence its 0: [0.0005491]\n",
      "Confidence its 1: [1.13835171e-05]\n",
      "Confidence its 2: [0.00399277]\n",
      "Confidence its 3: [0.00011691]\n",
      "Confidence its 4: [7.46868727e-06]\n",
      "Confidence its 5: [0.75032112]\n",
      "Confidence its 6: [0.00908758]\n",
      "Confidence its 7: [8.79650087e-08]\n",
      "Confidence its 8: [0.00226691]\n",
      "Confidence its 9: [3.65259873e-06]\n"
     ]
    },
    {
     "data": {
      "image/png": "[encoded data removed]",
      "text/plain": [
       "<Figure size 480x480 with 1 Axes>"
      ]
     },
     "metadata": {},
     "output_type": "display_data"
    },
    {
     "name": "stdout",
     "output_type": "stream",
     "text": [
      "its a  5  with  [0.75032112] confidence\n"
     ]
    }
   ],
   "source": [
    "eight=np.array([[0,0,0,0,0,0,0,0,0,0,0,0,0,0,0,0,0,0,0,0,0,0,0,0,0,0,0,0],[0,0,0,0,0,0,0,0,0,0,0,0,0,0,0,0,0,0,0,0,0,0,0,0,0,0,0,0],[0,0,0,0,0,0,0,0,0,0,0,0,0,0,0,0,0,0,0,0,0,0,0,0,0,0,0,0],[0,0,0,0,0,0,0,0,0,0,0,0,0,0,0,0,0,0,0,0,0,0,0,0,0,0,0,0],[0,0,0,0,0,0,0,0,0,0,0,0,0,0,0,0,0,0,0,0,0,0,0,0,0,0,0,0],[0,0,0,0,0,0,0,0,0,0,0,0,0,0,0,0,0,0,0,0,0,0,0,0,0,0,0,0],[0,0,0,0,0,0,0,0,0,0,0,0,0,0,0,0,0,0,0,0,0,0,0,0,0,0,0,0],[0,0,0,0,0,0,0,0,0,0,0,0,0,0,0,0,0,0,0,0,0,0,0,0,0,0,0,0],[0,0,0,0,0,0,0,0.3,0.8999999999999999,0.6,0.3,0,0,0,0,0,0,0,0,0,0,0,0,0,0,0,0,0],[0,0,0,0,0,0.8999999999999999,0.8999999999999999,0.8999999999999999,0.6,0.6,0.8999999999999999,0.8999999999999999,0,0,0,0,0,0,0,0,0,0,0,0,0,0,0,0],[0,0,0,0,0,0.8999999999999999,0.6,0,0,0,0,0.6,0.8999999999999999,0,0,0,0,0,0,0,0,0,0,0,0,0,0,0],[0,0,0,0,0,0.8999999999999999,0,0,0,0,0,0,0.6,0.6,0,0.6,0.8999999999999999,0.8999999999999999,0.8999999999999999,0.8999999999999999,0.6,0.8999999999999999,0.8999999999999999,0,0,0,0,0],[0,0,0,0,0,0.8999999999999999,0,0,0,0,0,0,0.3,0.8999999999999999,0.6,0,0,0,0,0,0,0,0.6,0.8999999999999999,0,0,0,0],[0,0,0,0,0,0.8999999999999999,0,0,0,0,0.3,0.8999999999999999,0.6,0.3,0.8999999999999999,0,0,0,0,0,0,0,0,0.8999999999999999,0,0,0,0],[0,0,0,0,0,0,0.8999999999999999,0.8999999999999999,0.8999999999999999,0.8999999999999999,0.3,0,0,0,0.6,0.6,0,0,0,0,0,0,0.8999999999999999,0.8999999999999999,0,0,0,0],[0,0,0,0,0,0,0.6,0,0,0,0,0,0,0,0.3,0.6,0.3,0,0,0,0,0,0.8999999999999999,0.6,0,0,0,0],[0,0,0,0,0,0,0.8999999999999999,0,0,0,0,0,0,0,0,0.3,0.8999999999999999,0.6,0,0,0,0,0.8999999999999999,0.3,0,0,0,0],[0,0,0,0,0,0,0,0,0,0,0,0,0,0,0,0,0,0.8999999999999999,0.8999999999999999,0.6,0.6,0.8999999999999999,0.8999999999999999,0,0,0,0,0],[0,0,0,0,0,0,0,0,0,0,0,0,0,0,0,0,0,0,0,0.3,0.8999999999999999,0.6,0.8999999999999999,0,0,0,0,0],[0,0,0,0,0,0,0,0,0,0,0,0,0,0,0,0,0,0,0,0,0,0,0,0,0,0,0,0],[0,0,0,0,0,0,0,0,0,0,0,0,0,0,0,0,0,0,0,0,0,0,0,0,0,0,0,0],[0,0,0,0,0,0,0,0,0,0,0,0,0,0,0,0,0,0,0,0,0,0,0,0,0,0,0,0],[0,0,0,0,0,0,0,0,0,0,0,0,0,0,0,0,0,0,0,0,0,0,0,0,0,0,0,0],[0,0,0,0,0,0,0,0,0,0,0,0,0,0,0,0,0,0,0,0,0,0,0,0,0,0,0,0],[0,0,0,0,0,0,0,0,0,0,0,0,0,0,0,0,0,0,0,0,0,0,0,0,0,0,0,0],[0,0,0,0,0,0,0,0,0,0,0,0,0,0,0,0,0,0,0,0,0,0,0,0,0,0,0,0],[0,0,0,0,0,0,0,0,0,0,0,0,0,0,0,0,0,0,0,0,0,0,0,0,0,0,0,0],[0,0,0,0,0,0,0,0,0,0,0,0,0,0,0,0,0,0,0,0,0,0,0,0,0,0,0,0]] ).transpose()\n",
    "neural_net.label(eight)"
   ]
  },
  {
   "cell_type": "code",
   "execution_count": 14,
   "id": "19c40b20-fd51-4042-8619-368ec388f5fd",
   "metadata": {},
   "outputs": [
    {
     "name": "stdout",
     "output_type": "stream",
     "text": [
      "Output Layer Activations:\n",
      "Confidence its 0: [9.31017636e-13]\n",
      "Confidence its 1: [3.87565326e-11]\n",
      "Confidence its 2: [2.00244225e-08]\n",
      "Confidence its 3: [0.99984611]\n",
      "Confidence its 4: [1.89671585e-06]\n",
      "Confidence its 5: [3.18439173e-07]\n",
      "Confidence its 6: [3.09254823e-10]\n",
      "Confidence its 7: [2.08182668e-09]\n",
      "Confidence its 8: [3.91902522e-06]\n",
      "Confidence its 9: [4.54426273e-07]\n"
     ]
    },
    {
     "data": {
      "image/png": "[encoded data removed]",
      "text/plain": [
       "<Figure size 480x480 with 1 Axes>"
      ]
     },
     "metadata": {},
     "output_type": "display_data"
    },
    {
     "name": "stdout",
     "output_type": "stream",
     "text": [
      "its a  3  with  [0.99984611] confidence\n"
     ]
    }
   ],
   "source": [
    "# More bright pixels => More confidence\n",
    "thick_three=np.array([[0,0,0,0,0,0,0,0,0,0,0,0,0,0,0,0,0,0,0,0,0,0,0,0,0,0,0,0],[0,0,0,0,0,0,0,0,0,0,0,0,0,0,0,0,0,0,0,0,0,0,0,0,0,0,0,0],[0,0,0,0,0,0,0,0,0,0,0,0,0,0,0,0,0,0,0,0,0,0,0,0,0,0,0,0],[0,0,0,0,0,0,0,0,0,0,0,0,0,0,0,0,0,0,0,0,0,0,0,0,0,0,0,0],[0,0,0,0,0,0,0,0,0,0,0,0,0,0,0,0,0,0,0,0,0,0,0,0,0,0,0,0],[0,0,0,0,0,0,0,0,0,0,0,0,0,0,0,0,0,0,0,0,0,0,0,0,0,0,0,0],[0,0,0,0,0,0,0,0,0,0,0,0,0,0,0,0,0,0,0,0,0,0,0,0,0,0,0,0],[0,0,0,0,0,0,0.8999999999999999,0.8999999999999999,0,0,0,0,0,0,0,0,0,0,0,0,0,0,0,0,0.8999999999999999,0.8999999999999999,0,0],[0,0,0,0,0,0,0.8999999999999999,0.8999999999999999,0,0,0,0,0,0,0.8999999999999999,0,0,0,0,0,0,0,0,0.8999999999999999,0.8999999999999999,0.8999999999999999,0,0],[0,0,0,0,0,0.3,0.8999999999999999,0.8999999999999999,0.8999999999999999,0,0,0,0,0,0.8999999999999999,0.8999999999999999,0.8999999999999999,0,0,0,0,0,0,0.8999999999999999,0.8999999999999999,0.8999999999999999,0,0],[0,0,0,0,0,0.8999999999999999,0.8999999999999999,0.8999999999999999,0.8999999999999999,0,0,0,0,0.8999999999999999,0.8999999999999999,0.8999999999999999,0.8999999999999999,0,0,0,0,0,0.8999999999999999,0.8999999999999999,0.8999999999999999,0.8999999999999999,0,0],[0,0,0,0,0,0.8999999999999999,0.8999999999999999,0.8999999999999999,0.8999999999999999,0,0,0,0,0.8999999999999999,0.8999999999999999,0.8999999999999999,0.8999999999999999,0,0,0,0,0,0.8999999999999999,0.8999999999999999,0.8999999999999999,0.8999999999999999,0,0],[0,0,0,0,0,0.8999999999999999,0.8999999999999999,0.8999999999999999,0.8999999999999999,0,0,0,0.8999999999999999,0.8999999999999999,0.8999999999999999,0.8999999999999999,0.8999999999999999,0,0,0,0,0.3,0.8999999999999999,0.8999999999999999,0.8999999999999999,0.8999999999999999,0,0],[0,0,0,0,0,0.6,0.8999999999999999,0.8999999999999999,0.8999999999999999,0,0,0,0.8999999999999999,0.8999999999999999,0.8999999999999999,0.8999999999999999,0.8999999999999999,0.8999999999999999,0,0,0,0.8999999999999999,0.8999999999999999,0.8999999999999999,0.8999999999999999,0.3,0,0],[0,0,0,0,0,0.6,0.8999999999999999,0.8999999999999999,0.8999999999999999,0,0,0.6,0.8999999999999999,0.8999999999999999,0.8999999999999999,0.8999999999999999,0.8999999999999999,0.8999999999999999,0.8999999999999999,0.8999999999999999,0.8999999999999999,0.8999999999999999,0.8999999999999999,0.8999999999999999,0.8999999999999999,0,0,0],[0,0,0,0,0,0,0.8999999999999999,0.8999999999999999,0.8999999999999999,0.8999999999999999,0.8999999999999999,0.8999999999999999,0.8999999999999999,0.8999999999999999,0.8999999999999999,0.8999999999999999,0.8999999999999999,0.8999999999999999,0.8999999999999999,0.8999999999999999,0.8999999999999999,0.8999999999999999,0.8999999999999999,0.8999999999999999,0.8999999999999999,0,0,0],[0,0,0,0,0,0,0.8999999999999999,0.8999999999999999,0.8999999999999999,0.8999999999999999,0.8999999999999999,0.8999999999999999,0.8999999999999999,0.8999999999999999,0.8999999999999999,0.8999999999999999,0.8999999999999999,0.8999999999999999,0.8999999999999999,0.8999999999999999,0.8999999999999999,0.8999999999999999,0.8999999999999999,0.8999999999999999,0.6,0,0,0],[0,0,0,0,0,0,0.8999999999999999,0.8999999999999999,0.8999999999999999,0.8999999999999999,0.8999999999999999,0.8999999999999999,0.8999999999999999,0,0,0.8999999999999999,0.8999999999999999,0.8999999999999999,0.8999999999999999,0.8999999999999999,0.8999999999999999,0.8999999999999999,0.8999999999999999,0.8999999999999999,0,0,0,0],[0,0,0,0,0,0,0,0.8999999999999999,0.8999999999999999,0.8999999999999999,0.8999999999999999,0.8999999999999999,0.8999999999999999,0,0,0,0,0.6,0.8999999999999999,0.8999999999999999,0.8999999999999999,0.8999999999999999,0.3,0,0,0,0,0],[0,0,0,0,0,0,0,0,0,0.8999999999999999,0.8999999999999999,0,0,0,0,0,0,0,0,0,0,0,0,0,0,0,0,0],[0,0,0,0,0,0,0,0,0,0,0,0,0,0,0,0,0,0,0,0,0,0,0,0,0,0,0,0],[0,0,0,0,0,0,0,0,0,0,0,0,0,0,0,0,0,0,0,0,0,0,0,0,0,0,0,0],[0,0,0,0,0,0,0,0,0,0,0,0,0,0,0,0,0,0,0,0,0,0,0,0,0,0,0,0],[0,0,0,0,0,0,0,0,0,0,0,0,0,0,0,0,0,0,0,0,0,0,0,0,0,0,0,0],[0,0,0,0,0,0,0,0,0,0,0,0,0,0,0,0,0,0,0,0,0,0,0,0,0,0,0,0],[0,0,0,0,0,0,0,0,0,0,0,0,0,0,0,0,0,0,0,0,0,0,0,0,0,0,0,0],[0,0,0,0,0,0,0,0,0,0,0,0,0,0,0,0,0,0,0,0,0,0,0,0,0,0,0,0],[0,0,0,0,0,0,0,0,0,0,0,0,0,0,0,0,0,0,0,0,0,0,0,0,0,0,0,0]]).transpose()\n",
    "neural_net.label(thick_three)"
   ]
  }
 ],
 "metadata": {
  "kernelspec": {
   "display_name": "Python 3",
   "language": "python",
   "name": "python3"
  },
  "language_info": {
   "codemirror_mode": {
    "name": "ipython",
    "version": 3
   },
   "file_extension": ".py",
   "mimetype": "text/x-python",
   "name": "python",
   "nbconvert_exporter": "python",
   "pygments_lexer": "ipython3",
   "version": "3.8.11"
  }
 },
 "nbformat": 4,
 "nbformat_minor": 5
}
