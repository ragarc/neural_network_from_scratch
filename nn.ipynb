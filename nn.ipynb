{
 "cells": [
  {
   "cell_type": "code",
   "execution_count": 1,
   "id": "0626beef-ba03-4655-a6a2-2f89e2c698e0",
   "metadata": {},
   "outputs": [],
   "source": [
    "import numpy as np\n",
    "import tensorflow.keras.datasets.mnist as dataa\n",
    "import matplotlib.pyplot as plt"
   ]
  },
  {
   "cell_type": "code",
   "execution_count": 2,
   "id": "175a5995-af7c-4cb5-92f2-896dc40250fc",
   "metadata": {},
   "outputs": [],
   "source": [
    "def s(vector):\n",
    "    plt.matshow(vector.reshape(28,28),cmap='gray')\n",
    "    plt.show()"
   ]
  },
  {
   "cell_type": "code",
   "execution_count": 3,
   "id": "c628251e-9dab-4d79-a492-e4ea65b3515b",
   "metadata": {},
   "outputs": [
    {
     "data": {
      "image/png": "[encoded data removed]",
      "text/plain": [
       "<Figure size 480x480 with 1 Axes>"
      ]
     },
     "metadata": {},
     "output_type": "display_data"
    }
   ],
   "source": [
    "(train_images, train_labels), (test_images,test_labels)=dataa.load_data()\n",
    "train_images=np.reshape(train_images,(60000,784))/255\n",
    "test_images=np.reshape(test_images,(10000,784))/255\n",
    "s(train_images[234])"
   ]
  },
  {
   "cell_type": "code",
   "execution_count": 4,
   "id": "daea22c5-9d08-4c3a-8e7a-7a122654eb13",
   "metadata": {},
   "outputs": [],
   "source": [
    "def tanh(x):\n",
    "    return 1/(1+np.exp(-x))\n",
    "def dtanh(x):\n",
    "    return np.exp(-x)/np.power(1+np.exp(-x),2)"
   ]
  },
  {
   "cell_type": "code",
   "execution_count": 5,
   "id": "afaf4f49-1f4b-4569-b183-3997f80704e2",
   "metadata": {},
   "outputs": [],
   "source": [
    "class NN:\n",
    "    def __init__(self,i_d,o_d,learning_rate):\n",
    "        self.weights=np.random.rand(o_d,i_d)-0.5\n",
    "        self.bias=np.random.rand(o_d,1)\n",
    "        self.i=np.random.rand(i_d,1)\n",
    "        self.o=np.random.rand(o_d,1)\n",
    "        self.i_d=i_d\n",
    "        self.o_d=o_d\n",
    "        self.L=learning_rate\n",
    "        self.wrong_indices=[]\n",
    "        self.momentum=0\n",
    "    def feed_forward(self,d):\n",
    "        self.i=np.reshape(d,(784,1))\n",
    "        self.o=np.matmul(self.weights,self.i)+self.bias\n",
    "        return tanh(self.o)\n",
    "    \n",
    "    def weight_gradients(self,out,cost):\n",
    "        w=np.matmul((out-cost)*dtanh(self.o),self.i.transpose())\n",
    "        return w\n",
    "    \n",
    "    def bias_gradients(self,out,cost):\n",
    "        b=(out-cost)*dtanh(self.o)\n",
    "        return b\n",
    "    \n",
    "    def train(self,data,labels,batch_size):\n",
    "        w_g=np.zeros((self.o_d,self.i_d))\n",
    "        b_g=np.zeros((self.o_d,1))\n",
    "        \n",
    "        for i in range(len(data)):\n",
    "            f=self.feed_forward(data[i])\n",
    "            c=np.zeros((10,1))\n",
    "            c[labels[i]]=1\n",
    "            w_g=w_g+self.weight_gradients(f,c)\n",
    "            b_g=b_g+self.bias_gradients(f,c)\n",
    "            if i%batch_size==0:\n",
    "                w_g/=batch_size\n",
    "                b_g/=batch_size\n",
    "                self.weights-=w_g*self.L\n",
    "                self.bias-=b_g*self.L\n",
    "                \n",
    "                w_g=np.zeros((self.o_d,self.i_d))\n",
    "                b_g=np.zeros((self.o_d,1))\n",
    "                \n",
    "    def label(self,test):\n",
    "        results=self.feed_forward(test)\n",
    "        print(\"Output Layer Activations:\")\n",
    "        for i in range(len(results)):\n",
    "            print(\"Confidence its \"+str(i)+\":\",results[i])\n",
    "        mx=-10\n",
    "        index=-1\n",
    "        for i in range(len(results)):\n",
    "            if results[i]>mx:\n",
    "                mx=results[i]\n",
    "                index=i\n",
    "        #print(results)\n",
    "        s(test)\n",
    "\n",
    "        print(\"its a \",index,\" with \",mx, \"confidence\")\n",
    "        \n",
    "    def error(self,test,label):\n",
    "        results=self.feed_forward(test)\n",
    "        l=np.zeros((10,1))\n",
    "        l[label]=1\n",
    "        vectorOut=results-l\n",
    "        \n",
    "        print(\"Output Layer Activations:\")\n",
    "        for i in range(len(results)):\n",
    "            print(\"Confidence its \"+str(i)+\":\",results[i])\n",
    "        print(l)\n",
    "        mx=-10\n",
    "        index=-1\n",
    "        for i in range(len(results)):\n",
    "            if results[i]>mx:\n",
    "                mx=results[i]\n",
    "                index=i\n",
    "        #print(results)\n",
    "        s(test)\n",
    "        print(np.dot(vectorOut[0],vectorOut[0]))\n",
    "\n",
    "    def calculate_accuracy(self,test,labels):\n",
    "        self.wrong_indices=[]\n",
    "        right=0\n",
    "        total=0\n",
    "        for i, s in enumerate(test): \n",
    "            results=self.feed_forward(s)\n",
    "            if np.argmax(results) == labels[i]:\n",
    "                right+=1\n",
    "            else:\n",
    "                self.wrong_indices.append(i)\n",
    "            total+=1\n",
    "        return (right/total)*100"
   ]
  },
  {
   "cell_type": "code",
   "execution_count": 6,
   "id": "0935d328-db05-4066-bd1d-f488d2877e5c",
   "metadata": {},
   "outputs": [],
   "source": [
    "neural_net=NN(784,10,1)"
   ]
  },
  {
   "cell_type": "code",
   "execution_count": 7,
   "id": "66100a4f-761c-4e09-971f-6ba1645ba24b",
   "metadata": {},
   "outputs": [],
   "source": [
    "for i in range(10):\n",
    "    neural_net.train(train_images,train_labels,10)"
   ]
  },
  {
   "cell_type": "code",
   "execution_count": 9,
   "id": "17d99802-14ca-40ce-befe-75435a487554",
   "metadata": {},
   "outputs": [
    {
     "data": {
      "text/plain": [
       "91.44"
      ]
     },
     "execution_count": 9,
     "metadata": {},
     "output_type": "execute_result"
    }
   ],
   "source": [
    "neural_net.calculate_accuracy(test_images,test_labels)"
   ]
  },
  {
   "cell_type": "code",
   "execution_count": 10,
   "id": "df390ee9-1ec6-48b1-bdf0-ac758ae4403f",
   "metadata": {
    "tags": []
   },
   "outputs": [
    {
     "name": "stdout",
     "output_type": "stream",
     "text": [
      "Output Layer Activations:\n",
      "Confidence its 0: [2.55463379e-07]\n",
      "Confidence its 1: [6.22971734e-06]\n",
      "Confidence its 2: [0.05147807]\n",
      "Confidence its 3: [2.40471263e-05]\n",
      "Confidence its 4: [6.5870085e-06]\n",
      "Confidence its 5: [3.32432828e-07]\n",
      "Confidence its 6: [0.12582292]\n",
      "Confidence its 7: [5.56425618e-12]\n",
      "Confidence its 8: [1.40182107e-05]\n",
      "Confidence its 9: [0.00041639]\n"
     ]
    },
    {
     "data": {
      "image/png": "[encoded data removed]",
      "text/plain": [
       "<Figure size 480x480 with 1 Axes>"
      ]
     },
     "metadata": {},
     "output_type": "display_data"
    },
    {
     "name": "stdout",
     "output_type": "stream",
     "text": [
      "its a  6  with  [0.12582292] confidence\n"
     ]
    }
   ],
   "source": [
    "neural_net.label(test_images[neural_net.wrong_indices[16]])"
   ]
  },
  {
   "cell_type": "code",
   "execution_count": 11,
   "id": "5086dd4f-45bd-411e-8348-9461f2d534cb",
   "metadata": {
    "jupyter": {
     "outputs_hidden": true
    },
    "tags": []
   },
   "outputs": [
    {
     "data": {
      "image/png": "[encoded data removed]",
      "text/plain": [
       "<Figure size 480x480 with 1 Axes>"
      ]
     },
     "metadata": {},
     "output_type": "display_data"
    }
   ],
   "source": [
    "s(neural_net.weights[5])"
   ]
  },
  {
   "cell_type": "code",
   "execution_count": 12,
   "id": "be11610b-e14f-4153-a90d-51899ec070cb",
   "metadata": {},
   "outputs": [],
   "source": [
    "a=np.array(\n",
    "[[0,0,0,0,0,0,0,0,0,0,0,0,0,0,0,0,0,0,0,0,0,0,0,0,0,0,0,0],[0,0,0,0,0,0,0,0,0,0,0,0,0,0,0,0,0,0,0,0,0,0,0,0,0,0,0,0],[0,0,0,0,0,0,0,0,0,0,0,0,0,0,0,0,0,0,0,0,0,0,0,0,0,0,0,0],[0,0,0,0,0,0,0,0,0,0,0,0,0,0,0,0,0,0,0,0,0,0,0,0,0,0,0,0],[0,0,0,0,0,0,0,0,0,0,0,0,0,0,0,0,0,0,0,0,0,0,0,0,0,0,0,0],[0,0,0,0,0,0,0,0,0,0,0,0,0,0,0,0,0,0,0,0,0,0,0,0,0,0,0,0],[0,0,0,0,0,0,0,0,0,0,0,0,0,0,0,0,0,0,0,0,0,0,0,0,0,0,0,0],[0,0,0,0,0,0,0,0,0,0,0,0,0,0,0,0,0,0,0,0,0,0,0,0,0,0,0,0],[0,0,0,0,0,0,0,0,0,0,0,0,0,0,0,0,0,0,0,0,0,0,0,0,0,0,0,0],[0,0,0,0,0,0,0,0,0,0,0,0,0,0,0,0,0,0,0,0,0,0,0,0,0,0,0,0],[0,0,0,0,0,0,0,0,0,0,0,0,0,0,0,0,0,0,0,0,0,0,0,0,0,0,0,0],[0,0,0,0,0,0,0,0,0,0,0,0,0,0,0,0,0,0,0,0,0,0,0,0,0,0,0,0],[0,0,0,0,0,0,0,0,0,0.3,0.8999999999999999,0.8999999999999999,0.8999999999999999,0.8999999999999999,0.8999999999999999,0.8999999999999999,0,0,0,0,0,0,0,0,0,0,0,0],[0,0,0,0,0,0,0,0,0.8999999999999999,0.6,0,0,0.8999999999999999,0,0,0.8999999999999999,0,0,0,0,0,0,0,0,0,0,0,0],[0,0,0,0,0,0,0.8999999999999999,0.8999999999999999,0,0,0,0,0.8999999999999999,0.8999999999999999,0.8999999999999999,0.8999999999999999,0,0,0,0,0,0,0,0,0,0,0,0],[0,0,0,0,0,0,0,0,0,0,0,0,0,0,0,0,0,0,0,0,0,0,0,0,0,0,0,0],[0,0,0,0,0,0,0,0,0,0,0,0,0,0,0,0,0,0,0,0,0,0,0,0,0,0,0,0],[0,0,0,0,0,0,0,0,0,0.8999999999999999,0,0,0,0,0,0,0,0,0,0,0,0,0,0,0,0,0,0],[0,0,0,0,0,0,0,0,0.8999999999999999,0.8999999999999999,0.3,0,0,0,0,0,0,0,0,0,0,0,0,0,0,0,0,0],[0,0,0,0,0,0,0.8999999999999999,0.8999999999999999,0,0,0.8999999999999999,0,0,0,0,0,0,0,0,0,0,0,0,0,0,0,0,0],[0,0,0,0,0,0.8999999999999999,0.8999999999999999,0.8999999999999999,0.8999999999999999,0.8999999999999999,0.8999999999999999,0,0,0,0,0,0,0,0,0,0,0,0,0,0,0,0,0],[0,0,0,0,0,0,0.8999999999999999,0.8999999999999999,0.8999999999999999,0.8999999999999999,0.8999999999999999,0.3,0.6,0.6,0.8999999999999999,0.8999999999999999,0.8999999999999999,0.8999999999999999,0,0,0,0,0,0,0,0,0,0],[0,0,0,0,0,0,0,0,0,0,0,0,0,0,0,0,0,0,0,0,0,0,0,0,0,0,0,0],[0,0,0,0,0,0,0,0,0,0,0,0,0,0,0,0,0,0,0,0,0,0,0,0,0,0,0,0],[0,0,0,0,0,0,0,0,0,0,0,0,0,0,0,0,0,0,0,0,0,0,0,0,0,0,0,0],[0,0,0,0,0,0,0,0,0,0,0,0,0,0,0,0,0,0,0,0,0,0,0,0,0,0,0,0],[0,0,0,0,0,0,0,0,0,0,0,0,0,0,0,0,0,0,0,0,0,0,0,0,0,0,0,0],[0,0,0,0,0,0,0,0,0,0,0,0,0,0,0,0,0,0,0,0,0,0,0,0,0,0,0,0]] )"
   ]
  },
  {
   "cell_type": "code",
   "execution_count": 13,
   "id": "8e8f0a0a-309d-45a0-95fa-54a7669bad44",
   "metadata": {
    "jupyter": {
     "outputs_hidden": true
    },
    "tags": []
   },
   "outputs": [
    {
     "name": "stdout",
     "output_type": "stream",
     "text": [
      "Output Layer Activations:\n",
      "Confidence its 0: [0.0038841]\n",
      "Confidence its 1: [0.1209549]\n",
      "Confidence its 2: [1.02468607e-05]\n",
      "Confidence its 3: [0.00285129]\n",
      "Confidence its 4: [0.09031306]\n",
      "Confidence its 5: [0.73129977]\n",
      "Confidence its 6: [0.26055582]\n",
      "Confidence its 7: [2.00410665e-10]\n",
      "Confidence its 8: [3.04236747e-05]\n",
      "Confidence its 9: [4.14505462e-08]\n"
     ]
    },
    {
     "data": {
      "image/png": "[encoded data removed]",
      "text/plain": [
       "<Figure size 480x480 with 1 Axes>"
      ]
     },
     "metadata": {},
     "output_type": "display_data"
    },
    {
     "name": "stdout",
     "output_type": "stream",
     "text": [
      "its a  5  with  [0.73129977] confidence\n"
     ]
    }
   ],
   "source": [
    "neural_net.label(a)"
   ]
  },
  {
   "cell_type": "code",
   "execution_count": 14,
   "id": "8dcd50ac-33d7-4e35-beb3-cc5616cf35d5",
   "metadata": {},
   "outputs": [],
   "source": [
    "cat=np.array([[0,0,0,0,0,0,0,0,0,0,0,0,0,0,0,0,0,0,0,0,0,0,0,0,0,0,0,0],[0,0,0,0,0,0,0,0,0,0,0,0,0,0,0,0,0,0,0,0,0,0,0,0,0,0,0,0],[0,0,0,0,0,0,0,0,0,0,0,0,0,0,0,0,0,0,0,0,0,0.8999999999999999,0.8999999999999999,0.8999999999999999,0.8999999999999999,0.8999999999999999,0.8999999999999999,0.8999999999999999],[0,0,0,0,0,0,0,0,0,0,0,0,0,0,0,0.8999999999999999,0,0,0,0,0,0,0.8999999999999999,0.6,0.3,0.3,0.8999999999999999,0],[0,0,0,0,0,0.3,0.3,0,0,0.6,0.6,0.8999999999999999,0.8999999999999999,0.8999999999999999,0.8999999999999999,0.8999999999999999,0.3,0.8999999999999999,0.3,0.6,0,0,0,0.8999999999999999,0.3,0,0,0],[0,0,0.8999999999999999,0.8999999999999999,0.8999999999999999,0.8999999999999999,0.6,0.8999999999999999,0.8999999999999999,0.3,0.3,0.3,0,0,0.8999999999999999,0.8999999999999999,0.8999999999999999,0.8999999999999999,0.6,0.3,0,0,0,0,0.8999999999999999,0,0,0],[0,0,0.8999999999999999,0.8999999999999999,0,0,0,0,0,0,0,0,0,0,0,0,0.6,0.8999999999999999,0.8999999999999999,0.8999999999999999,0,0.3,0.8999999999999999,0.8999999999999999,0.3,0,0,0],[0,0,0,0.8999999999999999,0.8999999999999999,0,0,0,0,0,0.8999999999999999,0,0,0,0,0,0,0,0.8999999999999999,0.8999999999999999,0,0.8999999999999999,0.8999999999999999,0.8999999999999999,0.8999999999999999,0.8999999999999999,0.8999999999999999,0.8999999999999999],[0,0,0,0.3,0.8999999999999999,0.8999999999999999,0,0,0,0,0.8999999999999999,0,0,0,0,0,0,0.8999999999999999,0.8999999999999999,0,0,0,0,0,0,0,0,0],[0,0,0,0,0,0.8999999999999999,0,0,0,0.6,0.8999999999999999,0,0,0,0,0,0,0.8999999999999999,0.8999999999999999,0,0,0.8999999999999999,0.8999999999999999,0.8999999999999999,0.8999999999999999,0.8999999999999999,0.8999999999999999,0.8999999999999999],[0,0,0,0,0.3,0.8999999999999999,0,0,0,0.3,0.8999999999999999,0,0,0,0,0.8999999999999999,0.8999999999999999,0,0.8999999999999999,0,0,0.6,0,0,0.8999999999999999,0.8999999999999999,0,0.8999999999999999],[0,0,0,0,0,0.8999999999999999,0,0,0,0,0,0,0,0,0.8999999999999999,0.8999999999999999,0.6,0,0.6,0,0,0.8999999999999999,0,0,0.8999999999999999,0,0.3,0.8999999999999999],[0,0,0,0,0,0.8999999999999999,0,0,0,0,0,0,0,0.8999999999999999,0.8999999999999999,0.8999999999999999,0,0,0.8999999999999999,0,0,0,0,0,0.8999999999999999,0,0.8999999999999999,0.3],[0,0,0,0,0,0.8999999999999999,0,0,0,0,0,0,0,0.8999999999999999,0.8999999999999999,0.3,0,0,0.8999999999999999,0,0,0,0,0.8999999999999999,0.8999999999999999,0.8999999999999999,0.8999999999999999,0],[0,0,0,0,0,0.8999999999999999,0.8999999999999999,0,0,0,0,0,0,0,0.6,0.8999999999999999,0,0,0.8999999999999999,0,0,0,0.8999999999999999,0.3,0,0,0.8999999999999999,0],[0,0,0,0,0,0,0.8999999999999999,0,0,0,0.8999999999999999,0,0,0,0,0.8999999999999999,0,0,0.8999999999999999,0,0,0,0.8999999999999999,0,0,0,0.8999999999999999,0],[0,0,0,0,0,0,0.8999999999999999,0,0,0,0.8999999999999999,0,0,0,0,0,0,0.8999999999999999,0,0,0,0,0.8999999999999999,0,0,0,0.8999999999999999,0],[0,0,0,0,0.3,0.8999999999999999,0,0,0,0,0.8999999999999999,0,0,0,0,0,0,0.8999999999999999,0,0,0,0,0,0.6,0.3,0.8999999999999999,0.3,0],[0,0,0,0.3,0.8999999999999999,0,0,0,0,0,0.8999999999999999,0,0,0,0,0,0.8999999999999999,0.8999999999999999,0,0,0,0,0.8999999999999999,0,0.8999999999999999,0,0,0],[0,0,0.3,0.8999999999999999,0.3,0,0,0,0,0,0,0,0,0,0,0,0.8999999999999999,0.8999999999999999,0,0,0,0,0.8999999999999999,0,0,0,0,0],[0,0,0.8999999999999999,0.8999999999999999,0.6,0.6,0,0,0,0,0,0,0,0,0.6,0.8999999999999999,0.8999999999999999,0.8999999999999999,0,0,0,0,0.8999999999999999,0.8999999999999999,0.8999999999999999,0.3,0.6,0.8999999999999999],[0,0,0,0,0.8999999999999999,0.8999999999999999,0.8999999999999999,0.8999999999999999,0.8999999999999999,0,0,0,0.8999999999999999,0.3,0.6,0.8999999999999999,0,0.8999999999999999,0,0,0,0,0,0.8999999999999999,0.3,0.8999999999999999,0.8999999999999999,0.8999999999999999],[0,0,0,0,0,0,0,0.8999999999999999,0,0,0.8999999999999999,0.3,0.3,0,0,0.8999999999999999,0.8999999999999999,0.3,0,0,0,0,0,0.8999999999999999,0.8999999999999999,0.8999999999999999,0.3,0],[0,0,0,0,0,0,0,0,0,0,0,0,0,0,0,0,0,0,0,0,0,0,0,0,0.8999999999999999,0.8999999999999999,0.8999999999999999,0],[0,0,0,0,0,0,0,0,0,0,0,0,0,0,0,0,0,0,0,0.8999999999999999,0.8999999999999999,0.8999999999999999,0.8999999999999999,0.8999999999999999,0.8999999999999999,0.8999999999999999,0,0],[0,0,0,0,0,0,0,0,0,0,0,0,0,0,0,0,0,0,0.8999999999999999,0,0,0,0,0,0,0,0,0],[0,0,0,0,0,0,0,0,0,0,0,0,0,0,0,0,0,0,0,0,0,0,0,0,0,0,0,0],[0,0,0,0,0,0,0,0,0,0,0,0,0,0,0,0,0,0,0,0,0,0,0,0,0,0,0,0]]).transpose()"
   ]
  },
  {
   "cell_type": "code",
   "execution_count": 15,
   "id": "3b1f9013-2c3b-45bb-ab86-0ab682b94c49",
   "metadata": {
    "jupyter": {
     "outputs_hidden": true
    },
    "tags": []
   },
   "outputs": [
    {
     "name": "stdout",
     "output_type": "stream",
     "text": [
      "Output Layer Activations:\n",
      "Confidence its 0: [2.68369183e-11]\n",
      "Confidence its 1: [5.91490066e-14]\n",
      "Confidence its 2: [0.40791847]\n",
      "Confidence its 3: [6.32753729e-08]\n",
      "Confidence its 4: [7.46647761e-09]\n",
      "Confidence its 5: [1.8167736e-08]\n",
      "Confidence its 6: [9.90380524e-11]\n",
      "Confidence its 7: [4.05816952e-13]\n",
      "Confidence its 8: [4.94345532e-15]\n",
      "Confidence its 9: [1.30482368e-10]\n"
     ]
    },
    {
     "data": {
      "image/png": "[encoded data removed]",
      "text/plain": [
       "<Figure size 480x480 with 1 Axes>"
      ]
     },
     "metadata": {},
     "output_type": "display_data"
    },
    {
     "name": "stdout",
     "output_type": "stream",
     "text": [
      "its a  2  with  [0.40791847] confidence\n"
     ]
    }
   ],
   "source": [
    "neural_net.label(cat)"
   ]
  },
  {
   "cell_type": "code",
   "execution_count": 16,
   "id": "9ee731d3-7729-46cc-b858-a0a8bd4fb6bb",
   "metadata": {},
   "outputs": [
    {
     "name": "stdout",
     "output_type": "stream",
     "text": [
      "Output Layer Activations:\n",
      "Confidence its 0: [5.79142437e-11]\n",
      "Confidence its 1: [0.99722702]\n",
      "Confidence its 2: [0.00214372]\n",
      "Confidence its 3: [0.00491865]\n",
      "Confidence its 4: [1.6232248e-05]\n",
      "Confidence its 5: [8.7395355e-05]\n",
      "Confidence its 6: [2.92720855e-06]\n",
      "Confidence its 7: [0.00644888]\n",
      "Confidence its 8: [0.00031512]\n",
      "Confidence its 9: [0.00088273]\n",
      "[[0.]\n",
      " [1.]\n",
      " [0.]\n",
      " [0.]\n",
      " [0.]\n",
      " [0.]\n",
      " [0.]\n",
      " [0.]\n",
      " [0.]\n",
      " [0.]]\n"
     ]
    },
    {
     "data": {
      "image/png": "[encoded data removed]",
      "text/plain": [
       "<Figure size 480x480 with 1 Axes>"
      ]
     },
     "metadata": {},
     "output_type": "display_data"
    },
    {
     "name": "stdout",
     "output_type": "stream",
     "text": [
      "3.354059625483679e-21\n"
     ]
    }
   ],
   "source": [
    "neural_net.error(test_images[5],test_labels[5])"
   ]
  },
  {
   "cell_type": "code",
   "execution_count": 17,
   "id": "96b5b34c-6919-46e2-84d2-ef3b2a8fc3be",
   "metadata": {},
   "outputs": [],
   "source": [
    "a=np.array(\n",
    "[[0,0,0,0,0,0,0,0,0,0,0,0,0,0,0,0,0,0,0,0,0,0,0,0,0,0,0,0],[0,0,0,0,0,0,0,0,0,0,0,0,0,0,0,0,0,0,0,0,0,0,0,0,0,0,0,0],[0,0,0,0,0,0,0,0,0,0,0,0,0,0,0,0,0,0,0,0,0,0,0,0,0,0,0,0],[0,0,0,0,0,0,0,0,0,0,0,0,0,0,0,0,0,0,0,0,0,0,0,0,0,0,0,0],[0,0,0,0,0,0,0,0,0,0,0,0,0,0,0,0,0,0,0,0,0,0,0,0,0,0,0,0],[0,0,0,0,0,0,0,0,0,0,0,0,0,0,0,0,0,0,0,0,0,0,0,0,0,0,0,0],[0,0,0,0,0,0,0,0,0,0,0,0,0,0,0,0,0,0,0,0,0,0,0,0,0,0,0,0],[0,0,0,0,0,0,0,0,0,0,0,0,0,0,0,0,0,0,0,0,0,0,0,0,0,0,0,0],[0,0,0,0,0,0,0,0,0,0,0,0,0,0,0,0,0,0,0,0,0,0,0,0,0,0,0,0],[0,0,0,0,0,0,0,0,0,0,0,0,0,0,0,0,0,0,0,0,0,0,0,0,0,0,0,0],[0,0,0,0,0,0,0,0,0,0,0,0,0,0,0,0,0,0,0,0,0,0,0,0,0,0,0,0],[0,0,0,0,0,0,0,0,0,0,0,0,0,0,0,0,0,0,0,0,0,0,0,0,0,0,0,0],[0,0,0,0,0,0,0,0,0,0.3,0.8999999999999999,0.8999999999999999,0.8999999999999999,0.8999999999999999,0.8999999999999999,0.8999999999999999,0,0,0,0,0,0,0,0,0,0,0,0],[0,0,0,0,0,0,0,0,0.8999999999999999,0.6,0,0,0.8999999999999999,0,0,0.8999999999999999,0,0,0,0,0,0,0,0,0,0,0,0],[0,0,0,0,0,0,0.8999999999999999,0.8999999999999999,0,0,0,0,0.8999999999999999,0.8999999999999999,0.8999999999999999,0.8999999999999999,0,0,0,0,0,0,0,0,0,0,0,0],[0,0,0,0,0,0,0,0,0,0,0,0,0,0,0,0,0,0,0,0,0,0,0,0,0,0,0,0],[0,0,0,0,0,0,0,0,0,0,0,0,0,0,0,0,0,0,0,0,0,0,0,0,0,0,0,0],[0,0,0,0,0,0,0,0,0,0.8999999999999999,0,0,0,0,0,0,0,0,0,0,0,0,0,0,0,0,0,0],[0,0,0,0,0,0,0,0,0.8999999999999999,0.8999999999999999,0.3,0,0,0,0,0,0,0,0,0,0,0,0,0,0,0,0,0],[0,0,0,0,0,0,0.8999999999999999,0.8999999999999999,0,0,0.8999999999999999,0,0,0,0,0,0,0,0,0,0,0,0,0,0,0,0,0],[0,0,0,0,0,0.8999999999999999,0.8999999999999999,0.8999999999999999,0.8999999999999999,0.8999999999999999,0.8999999999999999,0,0,0,0,0,0,0,0,0,0,0,0,0,0,0,0,0],[0,0,0,0,0,0,0.8999999999999999,0.8999999999999999,0.8999999999999999,0.8999999999999999,0.8999999999999999,0.3,0.6,0.6,0.8999999999999999,0.8999999999999999,0.8999999999999999,0.8999999999999999,0,0,0,0,0,0,0,0,0,0],[0,0,0,0,0,0,0,0,0,0,0,0,0,0,0,0,0,0,0,0,0,0,0,0,0,0,0,0],[0,0,0,0,0,0,0,0,0,0,0,0,0,0,0,0,0,0,0,0,0,0,0,0,0,0,0,0],[0,0,0,0,0,0,0,0,0,0,0,0,0,0,0,0,0,0,0,0,0,0,0,0,0,0,0,0],[0,0,0,0,0,0,0,0,0,0,0,0,0,0,0,0,0,0,0,0,0,0,0,0,0,0,0,0],[0,0,0,0,0,0,0,0,0,0,0,0,0,0,0,0,0,0,0,0,0,0,0,0,0,0,0,0],[0,0,0,0,0,0,0,0,0,0,0,0,0,0,0,0,0,0,0,0,0,0,0,0,0,0,0,0]] )"
   ]
  },
  {
   "cell_type": "code",
   "execution_count": 18,
   "id": "392fd947-bb39-4136-874c-6baf90a1710b",
   "metadata": {},
   "outputs": [
    {
     "data": {
      "image/png": "[encoded data removed]",
      "text/plain": [
       "<Figure size 480x480 with 1 Axes>"
      ]
     },
     "metadata": {},
     "output_type": "display_data"
    }
   ],
   "source": [
    "s(a)"
   ]
  },
  {
   "cell_type": "code",
   "execution_count": 19,
   "id": "5893d37b-662a-426b-ac36-dea1cc96340d",
   "metadata": {},
   "outputs": [
    {
     "data": {
      "image/png": "[encoded data removed]",
      "text/plain": [
       "<Figure size 480x480 with 1 Axes>"
      ]
     },
     "metadata": {},
     "output_type": "display_data"
    }
   ],
   "source": [
    "a=a.transpose()\n",
    "s(a)"
   ]
  },
  {
   "cell_type": "code",
   "execution_count": 20,
   "id": "eb777052-d82f-4cfd-aca9-c620bbe48982",
   "metadata": {},
   "outputs": [
    {
     "name": "stdout",
     "output_type": "stream",
     "text": [
      "Output Layer Activations:\n",
      "Confidence its 0: [0.00544747]\n",
      "Confidence its 1: [0.40949176]\n",
      "Confidence its 2: [2.02145591e-05]\n",
      "Confidence its 3: [0.73657486]\n",
      "Confidence its 4: [0.04379009]\n",
      "Confidence its 5: [0.01627387]\n",
      "Confidence its 6: [9.18130021e-08]\n",
      "Confidence its 7: [0.00160938]\n",
      "Confidence its 8: [0.00056033]\n",
      "Confidence its 9: [0.03120067]\n"
     ]
    },
    {
     "data": {
      "image/png": "[encoded data removed]",
      "text/plain": [
       "<Figure size 480x480 with 1 Axes>"
      ]
     },
     "metadata": {},
     "output_type": "display_data"
    },
    {
     "name": "stdout",
     "output_type": "stream",
     "text": [
      "its a  3  with  [0.73657486] confidence\n"
     ]
    }
   ],
   "source": [
    "neural_net.label(a)"
   ]
  },
  {
   "cell_type": "code",
   "execution_count": 21,
   "id": "55a50481-aed6-4ed6-a042-768e5558d603",
   "metadata": {},
   "outputs": [],
   "source": [
    "a=np.array([[0,0,0,0,0,0,0,0,0,0,0,0,0,0,0,0,0,0,0,0,0,0,0,0,0,0,0,0],[0,0,0,0,0,0,0,0,0,0,0,0,0,0,0,0,0,0,0,0,0,0,0,0,0,0,0,0],[0,0,0,0,0,0,0,0,0,0,0,0,0,0,0,0,0,0,0,0,0,0,0,0,0,0,0,0],[0,0,0,0,0,0,0,0,0,0,0,0,0,0,0,0,0,0,0,0,0,0,0,0,0,0,0,0],[0,0,0,0,0,0,0,0,0,0,0,0,0,0,0,0,0,0,0,0,0,0,0,0,0,0,0,0],[0,0,0,0,0,0,0,0,0,0,0,0,0,0,0,0,0,0,0,0,0,0,0,0,0,0,0,0],[0,0,0,0,0,0,0,0,0,0,0,0,0,0,0,0,0,0.8999999999999999,0,0,0,0,0,0,0,0,0,0],[0,0,0,0,0,0,0.6,0.8999999999999999,0,0,0,0,0,0,0,0,0.3,0.8999999999999999,0,0,0,0,0,0,0,0,0,0],[0,0,0,0,0,0,0.6,0.6,0,0,0,0,0,0,0,0,0.8999999999999999,0.8999999999999999,0,0,0,0,0,0,0,0,0,0],[0,0,0,0,0,0.3,0.3,0,0,0,0,0,0,0,0,0,0.8999999999999999,0,0,0,0,0,0,0,0,0,0,0],[0,0,0,0,0,0.6,0.3,0,0,0,0,0,0,0,0,0.8999999999999999,0.6,0,0,0,0,0,0,0,0,0,0,0],[0,0,0,0,0,0.8999999999999999,0,0,0,0,0,0,0,0,0.6,0.6,0.3,0,0,0,0,0,0,0,0,0,0,0],[0,0,0,0,0,0.8999999999999999,0,0,0,0,0,0,0,0,0.3,0.6,0,0,0,0,0,0,0,0,0,0,0,0],[0,0,0,0,0,0.8999999999999999,0,0,0,0,0,0,0,0.6,0.8999999999999999,0,0,0,0,0,0,0,0,0,0,0,0,0],[0,0,0,0,0,0.8999999999999999,0,0,0,0,0,0,0.3,0.6,0.8999999999999999,0,0,0,0,0,0,0,0,0,0,0,0,0],[0,0,0,0,0,0.6,0.6,0,0,0,0,0.6,0.3,0.3,0.8999999999999999,0,0,0,0,0,0,0,0,0.8999999999999999,0,0,0,0],[0,0,0,0,0,0.8999999999999999,0.6,0.8999999999999999,0,0.3,0.8999999999999999,0.6,0.8999999999999999,0,0.3,0.6,0,0,0,0,0,0,0.8999999999999999,0.6,0,0,0,0],[0,0,0,0,0,0.8999999999999999,0.8999999999999999,0.3,0.8999999999999999,0.8999999999999999,0.8999999999999999,0.3,0,0,0.8999999999999999,0.8999999999999999,0,0,0,0,0,0,0.8999999999999999,0,0,0,0,0],[0,0,0,0,0,0,0,0.6,0.3,0.8999999999999999,0.8999999999999999,0,0,0,0.8999999999999999,0.3,0,0,0,0,0,0.8999999999999999,0,0,0,0,0,0],[0,0,0,0,0,0,0,0,0,0,0,0,0,0,0,0.8999999999999999,0.8999999999999999,0,0,0.3,0.8999999999999999,0.8999999999999999,0,0,0,0,0,0],[0,0,0,0,0,0,0,0,0,0,0,0,0,0,0,0,0.8999999999999999,0.8999999999999999,0.8999999999999999,0.6,0.3,0,0,0,0,0,0,0],[0,0,0,0,0,0,0,0,0,0,0,0,0,0,0,0,0,0,0,0,0,0,0,0,0,0,0,0],[0,0,0,0,0,0,0,0,0,0,0,0,0,0,0,0,0,0,0,0,0,0,0,0,0,0,0,0],[0,0,0,0,0,0,0,0,0,0,0,0,0,0,0,0,0,0,0,0,0,0,0,0,0,0,0,0],[0,0,0,0,0,0,0,0,0,0,0,0,0,0,0,0,0,0,0,0,0,0,0,0,0,0,0,0],[0,0,0,0,0,0,0,0,0,0,0,0,0,0,0,0,0,0,0,0,0,0,0,0,0,0,0,0],[0,0,0,0,0,0,0,0,0,0,0,0,0,0,0,0,0,0,0,0,0,0,0,0,0,0,0,0],[0,0,0,0,0,0,0,0,0,0,0,0,0,0,0,0,0,0,0,0,0,0,0,0,0,0,0,0]]).transpose()"
   ]
  },
  {
   "cell_type": "code",
   "execution_count": 22,
   "id": "a957ba2a-a6d5-44f8-8bac-9ea05c16ad1e",
   "metadata": {},
   "outputs": [
    {
     "data": {
      "image/png": "[encoded data removed]",
      "text/plain": [
       "<Figure size 480x480 with 1 Axes>"
      ]
     },
     "metadata": {},
     "output_type": "display_data"
    }
   ],
   "source": [
    "s(a)"
   ]
  },
  {
   "cell_type": "code",
   "execution_count": 23,
   "id": "53bc950c-8a14-4384-9b77-c3a5759ce4b3",
   "metadata": {},
   "outputs": [
    {
     "name": "stdout",
     "output_type": "stream",
     "text": [
      "Output Layer Activations:\n",
      "Confidence its 0: [0.00017408]\n",
      "Confidence its 1: [8.31499501e-06]\n",
      "Confidence its 2: [0.09065059]\n",
      "Confidence its 3: [0.05388455]\n",
      "Confidence its 4: [0.1532724]\n",
      "Confidence its 5: [0.000337]\n",
      "Confidence its 6: [5.62492118e-07]\n",
      "Confidence its 7: [4.27411107e-06]\n",
      "Confidence its 8: [9.247611e-06]\n",
      "Confidence its 9: [3.0444297e-08]\n"
     ]
    },
    {
     "data": {
      "image/png": "[encoded data removed]",
      "text/plain": [
       "<Figure size 480x480 with 1 Axes>"
      ]
     },
     "metadata": {},
     "output_type": "display_data"
    },
    {
     "name": "stdout",
     "output_type": "stream",
     "text": [
      "its a  4  with  [0.1532724] confidence\n"
     ]
    }
   ],
   "source": [
    "neural_net.label(a)"
   ]
  },
  {
   "cell_type": "code",
   "execution_count": 22,
   "id": "ef6df3c5-87e0-47b7-b2ff-84b5b106c998",
   "metadata": {},
   "outputs": [],
   "source": [
    "a=np.array([[0,0,0,0,0,0,0,0,0,0,0,0,0,0,0,0,0,0,0,0,0,0,0,0,0,0,0,0],[0,0,0,0,0,0,0,0,0,0,0,0,0,0,0,0,0,0,0,0,0,0,0,0,0,0,0,0],[0,0,0,0,0,0,0,0,0,0,0,0,0,0,0,0,0,0,0,0,0,0,0,0,0,0,0,0],[0,0,0,0,0,0,0,0,0,0,0,0,0,0,0,0,0,0,0,0,0,0,0,0,0,0,0,0],[0,0,0,0,0,0,0,0,0,0,0,0,0,0,0,0,0,0,0,0,0,0,0,0,0,0,0,0],[0,0,0,0,0,0,0,0,0,0,0,0,0,0,0,0,0,0,0,0,0,0,0,0,0,0,0,0],[0,0,0,0,0,0,0,0,0,0,0,0,0,0,0,0,0,0,0,0,0,0,0,0,0,0,0,0],[0,0,0,0,0,0,0,0,0,0,0,0,0,0,0,0,0,0,0,0,0,0,0,0,0,0,0,0],[0,0,0,0,0,0,0,0.3,0.8999999999999999,0.6,0.3,0,0,0,0,0,0,0,0,0,0,0,0,0,0,0,0,0],[0,0,0,0,0,0.8999999999999999,0.8999999999999999,0.8999999999999999,0.6,0.6,0.8999999999999999,0.8999999999999999,0,0,0,0,0,0,0,0,0,0,0,0,0,0,0,0],[0,0,0,0,0,0.8999999999999999,0.6,0,0,0,0,0.6,0.8999999999999999,0,0,0,0,0,0,0,0,0,0,0,0,0,0,0],[0,0,0,0,0,0.8999999999999999,0,0,0,0,0,0,0.6,0.6,0,0.6,0.8999999999999999,0.8999999999999999,0.8999999999999999,0.8999999999999999,0.6,0.8999999999999999,0.8999999999999999,0,0,0,0,0],[0,0,0,0,0,0.8999999999999999,0,0,0,0,0,0,0.3,0.8999999999999999,0.6,0,0,0,0,0,0,0,0.6,0.8999999999999999,0,0,0,0],[0,0,0,0,0,0.8999999999999999,0,0,0,0,0.3,0.8999999999999999,0.6,0.3,0.8999999999999999,0,0,0,0,0,0,0,0,0.8999999999999999,0,0,0,0],[0,0,0,0,0,0,0.8999999999999999,0.8999999999999999,0.8999999999999999,0.8999999999999999,0.3,0,0,0,0.6,0.6,0,0,0,0,0,0,0.8999999999999999,0.8999999999999999,0,0,0,0],[0,0,0,0,0,0,0.6,0,0,0,0,0,0,0,0.3,0.6,0.3,0,0,0,0,0,0.8999999999999999,0.6,0,0,0,0],[0,0,0,0,0,0,0.8999999999999999,0,0,0,0,0,0,0,0,0.3,0.8999999999999999,0.6,0,0,0,0,0.8999999999999999,0.3,0,0,0,0],[0,0,0,0,0,0,0,0,0,0,0,0,0,0,0,0,0,0.8999999999999999,0.8999999999999999,0.6,0.6,0.8999999999999999,0.8999999999999999,0,0,0,0,0],[0,0,0,0,0,0,0,0,0,0,0,0,0,0,0,0,0,0,0,0.3,0.8999999999999999,0.6,0.8999999999999999,0,0,0,0,0],[0,0,0,0,0,0,0,0,0,0,0,0,0,0,0,0,0,0,0,0,0,0,0,0,0,0,0,0],[0,0,0,0,0,0,0,0,0,0,0,0,0,0,0,0,0,0,0,0,0,0,0,0,0,0,0,0],[0,0,0,0,0,0,0,0,0,0,0,0,0,0,0,0,0,0,0,0,0,0,0,0,0,0,0,0],[0,0,0,0,0,0,0,0,0,0,0,0,0,0,0,0,0,0,0,0,0,0,0,0,0,0,0,0],[0,0,0,0,0,0,0,0,0,0,0,0,0,0,0,0,0,0,0,0,0,0,0,0,0,0,0,0],[0,0,0,0,0,0,0,0,0,0,0,0,0,0,0,0,0,0,0,0,0,0,0,0,0,0,0,0],[0,0,0,0,0,0,0,0,0,0,0,0,0,0,0,0,0,0,0,0,0,0,0,0,0,0,0,0],[0,0,0,0,0,0,0,0,0,0,0,0,0,0,0,0,0,0,0,0,0,0,0,0,0,0,0,0],[0,0,0,0,0,0,0,0,0,0,0,0,0,0,0,0,0,0,0,0,0,0,0,0,0,0,0,0]] ).transpose()"
   ]
  },
  {
   "cell_type": "code",
   "execution_count": 23,
   "id": "391b7d61-cdeb-43e3-9979-1e6800d7f2f6",
   "metadata": {},
   "outputs": [
    {
     "name": "stdout",
     "output_type": "stream",
     "text": [
      "Output Layer Activations:\n",
      "Confidence its 0: [0.00083463]\n",
      "Confidence its 1: [3.45547304e-06]\n",
      "Confidence its 2: [0.00396056]\n",
      "Confidence its 3: [0.00016652]\n",
      "Confidence its 4: [6.95097868e-06]\n",
      "Confidence its 5: [0.75191654]\n",
      "Confidence its 6: [0.0040899]\n",
      "Confidence its 7: [2.09173363e-08]\n",
      "Confidence its 8: [0.00523799]\n",
      "Confidence its 9: [3.65314679e-06]\n"
     ]
    },
    {
     "data": {
      "image/png": "[encoded data removed]",
      "text/plain": [
       "<Figure size 480x480 with 1 Axes>"
      ]
     },
     "metadata": {},
     "output_type": "display_data"
    },
    {
     "name": "stdout",
     "output_type": "stream",
     "text": [
      "its a  5  with  [0.75191654] confidence\n"
     ]
    }
   ],
   "source": [
    "neural_net.label(a)"
   ]
  },
  {
   "cell_type": "code",
   "execution_count": 24,
   "id": "88d8097e-8ff2-4d77-abfd-68bf474cc7ac",
   "metadata": {},
   "outputs": [],
   "source": [
    "a=np.array(\n",
    "[[0,0,0,0,0,0,0,0,0,0,0,0,0,0,0,0,0,0,0,0,0,0,0,0,0,0,0,0],[0,0,0,0,0,0,0,0,0,0,0,0,0,0,0,0,0,0,0,0,0,0,0,0,0,0,0,0],[0,0,0,0,0,0,0,0,0,0,0,0,0,0,0,0,0,0,0,0,0,0,0,0,0,0,0,0],[0,0,0,0,0,0,0,0,0,0,0,0,0,0,0,0,0,0,0,0,0,0,0,0,0,0,0,0],[0,0,0,0,0,0,0,0,0,0,0,0,0,0,0,0,0,0,0,0,0,0,0,0,0,0,0,0],[0,0,0,0,0,0,0,0,0,0,0,0,0,0,0,0,0,0,0,0,0,0,0,0,0,0,0,0],[0,0,0,0,0,0,0,0,0,0,0,0,0,0,0,0,0,0.8999999999999999,0,0,0,0,0,0,0,0,0,0],[0,0,0,0,0,0,0,0,0,0,0,0,0,0,0,0.6,0.8999999999999999,0.8999999999999999,0.8999999999999999,0.8999999999999999,0.8999999999999999,0,0,0,0,0,0,0],[0,0,0,0,0,0,0,0,0,0,0,0,0,0,0,0.8999999999999999,0.8999999999999999,0.8999999999999999,0.8999999999999999,0.8999999999999999,0.6,0,0,0,0,0,0,0],[0,0,0,0,0,0,0,0,0,0,0,0,0,0,0,0.6,0.8999999999999999,0.8999999999999999,0.8999999999999999,0.8999999999999999,0.8999999999999999,0,0,0,0,0,0,0],[0,0,0,0,0,0,0,0,0,0,0,0,0,0,0,0.3,0.3,0.8999999999999999,0.8999999999999999,0.8999999999999999,0.6,0,0,0,0,0,0,0],[0,0,0,0,0.3,0.8999999999999999,0.8999999999999999,0,0,0.3,0.3,0.3,0.3,0.3,0.3,0.8999999999999999,0.3,0,0,0.3,0,0.8999999999999999,0,0,0,0,0,0],[0,0,0.3,0.8999999999999999,0.8999999999999999,0.8999999999999999,0.8999999999999999,0.8999999999999999,0.8999999999999999,0.8999999999999999,0.6,0.8999999999999999,0.8999999999999999,0.8999999999999999,0.8999999999999999,0.8999999999999999,0.8999999999999999,0.8999999999999999,0,0,0,0,0,0,0,0,0,0],[0,0,0.8999999999999999,0.8999999999999999,0.8999999999999999,0.8999999999999999,0.8999999999999999,0.8999999999999999,0.8999999999999999,0.8999999999999999,0.8999999999999999,0.8999999999999999,0.8999999999999999,0.8999999999999999,0.8999999999999999,0.8999999999999999,0.6,0,0,0,0,0,0,0,0,0,0,0],[0,0,0.8999999999999999,0.8999999999999999,0.8999999999999999,0.8999999999999999,0.8999999999999999,0.8999999999999999,0.8999999999999999,0.8999999999999999,0.8999999999999999,0.8999999999999999,0.8999999999999999,0.8999999999999999,0.8999999999999999,0.8999999999999999,0.8999999999999999,0.8999999999999999,0,0,0,0,0,0,0,0,0,0],[0,0,0,0.8999999999999999,0.8999999999999999,0.8999999999999999,0.8999999999999999,0.8999999999999999,0.8999999999999999,0.8999999999999999,0.8999999999999999,0.8999999999999999,0.8999999999999999,0.8999999999999999,0.8999999999999999,0.8999999999999999,0.8999999999999999,0.6,0,0,0,0,0,0,0,0,0,0],[0,0,0,0.3,0.8999999999999999,0.3,0.8999999999999999,0.6,0.3,0.6,0.6,0.6,0.3,0.3,0.6,0.8999999999999999,0.8999999999999999,0.8999999999999999,0.3,0.3,0,0,0,0,0,0,0,0],[0,0,0,0,0,0.8999999999999999,0.6,0,0.3,0.3,0,0.3,0,0.3,0,0.3,0.8999999999999999,0.8999999999999999,0.8999999999999999,0.8999999999999999,0.6,0,0,0,0,0,0,0],[0,0,0,0,0,0,0,0,0,0,0,0,0.3,0,0,0,0.8999999999999999,0.8999999999999999,0.8999999999999999,0.8999999999999999,0.8999999999999999,0.6,0,0,0,0,0,0],[0,0,0,0,0,0,0,0,0,0,0,0,0,0,0.8999999999999999,0.6,0.8999999999999999,0.8999999999999999,0.8999999999999999,0.8999999999999999,0.8999999999999999,0.3,0,0,0,0,0,0],[0,0,0,0,0,0,0,0,0,0,0,0,0,0,0,0.6,0.3,0.8999999999999999,0.8999999999999999,0.8999999999999999,0.8999999999999999,0.6,0,0,0,0,0,0],[0,0,0,0,0,0,0,0,0,0,0,0,0,0,0,0.3,0.8999999999999999,0.8999999999999999,0.8999999999999999,0.8999999999999999,0.6,0,0,0,0,0,0,0],[0,0,0,0,0,0,0,0,0,0,0,0,0,0,0,0,0,0.6,0.6,0.6,0.3,0,0,0,0,0,0,0],[0,0,0,0,0,0,0,0,0,0,0,0,0,0,0,0,0,0,0,0,0,0,0,0,0,0,0,0],[0,0,0,0,0,0,0,0,0,0,0,0,0,0,0,0,0,0,0,0,0,0,0,0,0,0,0,0],[0,0,0,0,0,0,0,0,0,0,0,0,0,0,0,0,0,0,0,0,0,0,0,0,0,0,0,0],[0,0,0,0,0,0,0,0,0,0,0,0,0,0,0,0,0,0,0,0,0,0,0,0,0,0,0,0],[0,0,0,0,0,0,0,0,0,0,0,0,0,0,0,0,0,0,0,0,0,0,0,0,0,0,0,0]] ).transpose()"
   ]
  },
  {
   "cell_type": "code",
   "execution_count": 25,
   "id": "a6e4a6a7-7746-4425-a460-a50d89366531",
   "metadata": {},
   "outputs": [
    {
     "name": "stdout",
     "output_type": "stream",
     "text": [
      "Output Layer Activations:\n",
      "Confidence its 0: [1.73522046e-09]\n",
      "Confidence its 1: [8.82758449e-07]\n",
      "Confidence its 2: [0.00396592]\n",
      "Confidence its 3: [0.96525067]\n",
      "Confidence its 4: [8.2355724e-14]\n",
      "Confidence its 5: [1.19772037e-08]\n",
      "Confidence its 6: [1.12017407e-05]\n",
      "Confidence its 7: [2.2042318e-15]\n",
      "Confidence its 8: [5.95860255e-06]\n",
      "Confidence its 9: [7.13995397e-10]\n"
     ]
    },
    {
     "data": {
      "image/png": "[encoded data removed]",
      "text/plain": [
       "<Figure size 480x480 with 1 Axes>"
      ]
     },
     "metadata": {},
     "output_type": "display_data"
    },
    {
     "name": "stdout",
     "output_type": "stream",
     "text": [
      "its a  3  with  [0.96525067] confidence\n"
     ]
    }
   ],
   "source": [
    "neural_net.label(a)"
   ]
  },
  {
   "cell_type": "code",
   "execution_count": null,
   "id": "d9189e68-eb30-4fea-80b8-fbf6ea69d8e3",
   "metadata": {},
   "outputs": [],
   "source": []
  }
 ],
 "metadata": {
  "kernelspec": {
   "display_name": "Python 3",
   "language": "python",
   "name": "python3"
  },
  "language_info": {
   "codemirror_mode": {
    "name": "ipython",
    "version": 3
   },
   "file_extension": ".py",
   "mimetype": "text/x-python",
   "name": "python",
   "nbconvert_exporter": "python",
   "pygments_lexer": "ipython3",
   "version": "3.8.11"
  }
 },
 "nbformat": 4,
 "nbformat_minor": 5
}
